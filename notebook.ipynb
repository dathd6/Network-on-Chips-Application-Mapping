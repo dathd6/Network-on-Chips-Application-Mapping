{
 "cells": [
  {
   "cell_type": "code",
   "execution_count": 1,
   "metadata": {},
   "outputs": [],
   "source": [
    "COREGRAPH = 'dataset/bandwidth/dh655_testcase.txt'"
   ]
  },
  {
   "cell_type": "markdown",
   "metadata": {},
   "source": []
  },
  {
   "cell_type": "code",
   "execution_count": 2,
   "metadata": {},
   "outputs": [
    {
     "data": {
      "text/plain": [
       "array([[   0,    3,  104],\n",
       "       [   1,    0,  193],\n",
       "       [   1,    4,  120],\n",
       "       [   2,    0, 2080],\n",
       "       [   2,    3,  500],\n",
       "       [   2,    6,   73],\n",
       "       [   3,    4,   82],\n",
       "       [   5,    2,   25]])"
      ]
     },
     "execution_count": 2,
     "metadata": {},
     "output_type": "execute_result"
    }
   ],
   "source": [
    "import numpy as np\n",
    "data = np.loadtxt(COREGRAPH, dtype=int)\n",
    "data"
   ]
  },
  {
   "cell_type": "code",
   "execution_count": 3,
   "metadata": {},
   "outputs": [],
   "source": [
    "from optimisers.moead import MOEAD\n",
    "\n",
    "moead = MOEAD(n_partitions=10, n_neighbours=4)\n",
    "moead.intialize_population(\n",
    "    n_solutions=50,\n",
    "    n_cores=7,\n",
    "    es_bit=30,\n",
    "    el_bit=20,\n",
    "    mesh_2d_shape=(3, 3),\n",
    "    core_graph=data,\n",
    ")\n",
    "moead.optimize(n_evaluations=1000)"
   ]
  },
  {
   "cell_type": "code",
   "execution_count": null,
   "metadata": {},
   "outputs": [],
   "source": [
    "from optimisers.nsga_ii import NSGA_II\n",
    "\n",
    "nsga_ii = NSGA_II(n_tournaments=15)\n",
    "nsga_ii.intialize_population(\n",
    "    n_solutions=50,\n",
    "    n_cores=7,\n",
    "    es_bit=30,\n",
    "    el_bit=20,\n",
    "    mesh_2d_shape=(3, 3),\n",
    "    core_graph=data,\n",
    ")"
   ]
  },
  {
   "cell_type": "code",
   "execution_count": null,
   "metadata": {},
   "outputs": [],
   "source": [
    "nsga_ii.non_dominated_sorting()\n",
    "nsga_ii.visualize_objective_space('Multi-surrogate Bayesian Optimization', figsize=(12, 6), labels=['Energy consumption', 'Average Load Degree'])"
   ]
  },
  {
   "cell_type": "code",
   "execution_count": null,
   "metadata": {},
   "outputs": [],
   "source": [
    "nsga_ii.population[0].visualize_core_graph()"
   ]
  },
  {
   "cell_type": "code",
   "execution_count": null,
   "metadata": {},
   "outputs": [],
   "source": [
    "nsga_ii.population[0].visualize_NoC()"
   ]
  },
  {
   "cell_type": "code",
   "execution_count": null,
   "metadata": {},
   "outputs": [],
   "source": [
    "nsga_ii.optimize(n_evaluations=1000)"
   ]
  },
  {
   "cell_type": "code",
   "execution_count": null,
   "metadata": {},
   "outputs": [],
   "source": [
    "nsga_ii.non_dominated_sorting()\n",
    "nsga_ii.visualize_objective_space('Multi-surrogate Bayesian Optimization', figsize=(12, 6), labels=['Communication Cost', 'Average Load Degree'])"
   ]
  },
  {
   "cell_type": "code",
   "execution_count": null,
   "metadata": {},
   "outputs": [],
   "source": [
    "nsga_ii.population[nsga_ii.pareto_fronts[0]][0].visualize_NoC()"
   ]
  },
  {
   "cell_type": "markdown",
   "metadata": {},
   "source": []
  },
  {
   "cell_type": "code",
   "execution_count": null,
   "metadata": {},
   "outputs": [],
   "source": [
    "from noc import NetworkOnChip\n",
    "\n",
    "mesh2d = NetworkOnChip(\n",
    "    n_cores=7,\n",
    "    n_rows=3,\n",
    "    n_cols=3,\n",
    "    es_bit=30,\n",
    "    el_bit=20,\n",
    "    core_graph=data,\n",
    "    mapping_seq=[5, 0, 2, -1, 6, 4, 3, 1, -1]\n",
    ")"
   ]
  },
  {
   "cell_type": "code",
   "execution_count": null,
   "metadata": {},
   "outputs": [],
   "source": [
    "mesh2d.routes"
   ]
  },
  {
   "cell_type": "code",
   "execution_count": null,
   "metadata": {},
   "outputs": [],
   "source": [
    "mesh2d.visualize_core_graph()"
   ]
  },
  {
   "cell_type": "code",
   "execution_count": null,
   "metadata": {},
   "outputs": [],
   "source": [
    "mesh2d.visualize_NoC()"
   ]
  },
  {
   "cell_type": "code",
   "execution_count": null,
   "metadata": {},
   "outputs": [],
   "source": [
    "mesh2d.avg_load_degree"
   ]
  },
  {
   "cell_type": "code",
   "execution_count": null,
   "metadata": {},
   "outputs": [],
   "source": [
    "mesh2d.energy_consumption"
   ]
  },
  {
   "cell_type": "code",
   "execution_count": null,
   "metadata": {},
   "outputs": [],
   "source": [
    "mesh2d.task_count"
   ]
  },
  {
   "cell_type": "code",
   "execution_count": null,
   "metadata": {},
   "outputs": [],
   "source": [
    "mesh2d.bw_throughput"
   ]
  },
  {
   "cell_type": "code",
   "execution_count": null,
   "metadata": {},
   "outputs": [],
   "source": [
    "np.sum(mesh2d.bw_throughput)"
   ]
  },
  {
   "cell_type": "code",
   "execution_count": null,
   "metadata": {},
   "outputs": [],
   "source": [
    "nsga_ii.optimize(n_evaluations=1000)"
   ]
  },
  {
   "cell_type": "code",
   "execution_count": null,
   "metadata": {},
   "outputs": [],
   "source": []
  },
  {
   "cell_type": "code",
   "execution_count": null,
   "metadata": {},
   "outputs": [],
   "source": []
  }
 ],
 "metadata": {
  "kernelspec": {
   "display_name": "env",
   "language": "python",
   "name": "python3"
  },
  "language_info": {
   "codemirror_mode": {
    "name": "ipython",
    "version": 3
   },
   "file_extension": ".py",
   "mimetype": "text/x-python",
   "name": "python",
   "nbconvert_exporter": "python",
   "pygments_lexer": "ipython3",
   "version": "3.11.9"
  }
 },
 "nbformat": 4,
 "nbformat_minor": 2
}
